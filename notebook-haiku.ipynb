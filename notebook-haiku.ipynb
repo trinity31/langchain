{
 "cells": [
  {
   "cell_type": "code",
   "execution_count": 1,
   "metadata": {},
   "outputs": [
    {
     "name": "stdout",
     "output_type": "stream",
     "text": [
      "Python slithers through,\n",
      "Elegant code flows freely,\n",
      "Guiding us with ease.This Haiku beautifully captures the essence of Python programming language. It highlights Python's flexibility and readability, making it easy for developers to write elegant and efficient code. The imagery of a snake slithering through, guiding us with ease, reflects Python's smooth and intuitive nature."
     ]
    },
    {
     "data": {
      "text/plain": [
       "AIMessageChunk(content=\"This Haiku beautifully captures the essence of Python programming language. It highlights Python's flexibility and readability, making it easy for developers to write elegant and efficient code. The imagery of a snake slithering through, guiding us with ease, reflects Python's smooth and intuitive nature.\")"
      ]
     },
     "execution_count": 1,
     "metadata": {},
     "output_type": "execute_result"
    }
   ],
   "source": [
    "from langchain.chat_models import ChatOpenAI\n",
    "from langchain.prompts import ChatPromptTemplate\n",
    "from langchain.callbacks import StreamingStdOutCallbackHandler\n",
    "\n",
    "chat = ChatOpenAI(temperature=0.1, streaming=True, callbacks=[StreamingStdOutCallbackHandler()])\n",
    "\n",
    "haiku_prompt = ChatPromptTemplate.from_messages([\n",
    "    (\"system\", \"You are a professional Haiku writer who is specialized in writing Haikus about programming languages.\"),\n",
    "    (\"human\", \"Please write a Haiku about {language}\"),\n",
    "])\n",
    "\n",
    "haiku_chain = haiku_prompt | chat\n",
    "\n",
    "explain_prompt = ChatPromptTemplate.from_messages(\n",
    "    [\n",
    "        (\"system\", \"You are an expert in explaining Haikus about programming languages to people.\"),\n",
    "        (\"human\", \"{haiku}\"),\n",
    "    ]\n",
    ")\n",
    "\n",
    "explain_chain = explain_prompt | chat\n",
    "\n",
    "final_chain = {\"haiku\": haiku_chain} | explain_chain\n",
    "\n",
    "final_chain.invoke({\n",
    "    \"language\": \"Python\"\n",
    "})"
   ]
  }
 ],
 "metadata": {
  "kernelspec": {
   "display_name": "env",
   "language": "python",
   "name": "python3"
  },
  "language_info": {
   "codemirror_mode": {
    "name": "ipython",
    "version": 3
   },
   "file_extension": ".py",
   "mimetype": "text/x-python",
   "name": "python",
   "nbconvert_exporter": "python",
   "pygments_lexer": "ipython3",
   "version": "3.9.6"
  }
 },
 "nbformat": 4,
 "nbformat_minor": 2
}
