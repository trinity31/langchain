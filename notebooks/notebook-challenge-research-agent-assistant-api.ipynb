{
 "cells": [
  {
   "cell_type": "code",
   "execution_count": 67,
   "metadata": {},
   "outputs": [],
   "source": [
    "import openai as client\n",
    "import json\n",
    "import requests\n",
    "from bs4 import BeautifulSoup\n",
    "from langchain.utilities import DuckDuckGoSearchAPIWrapper\n",
    "from langchain.retrievers import WikipediaRetriever"
   ]
  },
  {
   "cell_type": "code",
   "execution_count": 138,
   "metadata": {},
   "outputs": [],
   "source": [
    "def format_docs(docs):\n",
    "    return \"\\n\\n\".join(document.page_content for document in docs)\n",
    "\n",
    "def duckduckgo_search(inputs):\n",
    "    ddg = DuckDuckGoSearchAPIWrapper()\n",
    "    query = inputs['query']\n",
    "    return ddg.run(query)\n",
    "\n",
    "def wikipedia_search(inputs):\n",
    "    query = inputs['query']\n",
    "    retriever = WikipediaRetriever(top_k_results=5, lang=\"en\")\n",
    "    docs = retriever.get_relevant_documents(query)\n",
    "    return format_docs(docs)\n",
    "\n",
    "def website_scrape(inputs):\n",
    "    url = inputs['url']\n",
    "    response = requests.get(url)\n",
    "    soup = BeautifulSoup(response.text, 'html.parser')\n",
    "    # 모든 <p> 태그의 텍스트를 추출하고 결합\n",
    "    content = ' '.join([p.text for p in soup.find_all('p')])\n",
    "    return content\n",
    "\n",
    "def save_to_file(inputs):\n",
    "    data = inputs['data']\n",
    "    with open(f\"search_result.txt\", \"w\") as f:\n",
    "        f.write(data)\n",
    "    return f\"Information saved in result.txt file.\"\n",
    "\n",
    "\n",
    "functions = [\n",
    "    {\n",
    "        \"type\": \"function\",\n",
    "        \"function\": {\n",
    "            \"name\": \"duckduckgo_search\",\n",
    "            \"description\": \"Searches DuckDuckGo for the given query\",\n",
    "            \"parameters\": {\n",
    "                \"type\": \"object\",\n",
    "                \"properties\": {\n",
    "                    \"query\": {\n",
    "                        \"type\": \"string\",\n",
    "                        \"description\": \"The query to search for\",\n",
    "                    }\n",
    "                },\n",
    "                \"required\": [\"query\"],\n",
    "            },\n",
    "        },\n",
    "    },\n",
    "    {\n",
    "        \"type\": \"function\",\n",
    "        \"function\": {\n",
    "            \"name\": \"wikipedia_search\",\n",
    "            \"description\": \"Searches Wikipedia for the given query\",\n",
    "            \"parameters\": {\n",
    "                \"type\": \"object\",\n",
    "                \"properties\": {\n",
    "                    \"query\": {\n",
    "                        \"type\": \"string\",\n",
    "                        \"description\": \"The query to search for\",\n",
    "                    }\n",
    "                },\n",
    "                \"required\": [\"query\"],\n",
    "            },\n",
    "        },\n",
    "    },\n",
    "    {\n",
    "        \"type\": \"function\",\n",
    "        \"function\": {\n",
    "            \"name\": \"website_scrape\",\n",
    "            \"description\": \"Scrapes the content of the given website\",\n",
    "            \"parameters\": {\n",
    "                \"type\": \"object\",\n",
    "                \"properties\": {\n",
    "                    \"url\": {\n",
    "                        \"type\": \"string\",\n",
    "                        \"description\": \"The URL of the website to scrape\",\n",
    "                    }\n",
    "                },\n",
    "                \"required\": [\"url\"],\n",
    "            },\n",
    "        },\n",
    "    },\n",
    "    {\n",
    "        \"type\": \"function\",\n",
    "        \"function\": {\n",
    "            \"name\": \"save_to_file\",\n",
    "            \"description\": \"Saves the given data to a file\",\n",
    "            \"parameters\": {\n",
    "                \"type\": \"object\",\n",
    "                \"properties\": {\n",
    "                    \"data\": {\n",
    "                        \"type\": \"string\",\n",
    "                        \"description\": \"The data to save\",\n",
    "                    }\n",
    "                },\n",
    "                \"required\": [\"data\"],\n",
    "            },\n",
    "        },\n",
    "    },\n",
    "]\n",
    "\n",
    "functions_map = {\n",
    "    \"duckduckgo_search\": duckduckgo_search,\n",
    "    \"wikipedia_search\": wikipedia_search,\n",
    "    \"website_scrape\": website_scrape,\n",
    "    \"save_to_file\": save_to_file,\n",
    "}"
   ]
  },
  {
   "cell_type": "code",
   "execution_count": 143,
   "metadata": {},
   "outputs": [],
   "source": [
    "# assistant = client.beta.assistants.create(\n",
    "#     name=\"Research Assistant\",\n",
    "#     instructions=\"\"\"\n",
    "#             You are a research specialist.\n",
    "#             Take a deep breath and proceed with the following step.\n",
    "#             1. Search for the information about a query using DuckDuckGo.\n",
    "#             2. Search for the information about a query using Wikipedia.\n",
    "#             3. Extract the content of a website if any url is included in the search result.\n",
    "#             4. Save all the search results in a text file, and it should contain all the information you have found in step 1, 2, and 3.\n",
    "#             \"\"\",\n",
    "#     model=\"gpt-4-turbo-preview\",\n",
    "#     tools=functions,\n",
    "# )\n",
    "\n",
    "# assistant\n",
    "\n",
    "assistant_id = \"asst_FH0WYs6IBxzqPWDhZmhvX2fn\""
   ]
  },
  {
   "cell_type": "code",
   "execution_count": 144,
   "metadata": {},
   "outputs": [
    {
     "data": {
      "text/plain": [
       "Thread(id='thread_lPONvuP5DMhm5hHts18b2zn8', created_at=1713007947, metadata={}, object='thread')"
      ]
     },
     "execution_count": 144,
     "metadata": {},
     "output_type": "execute_result"
    }
   ],
   "source": [
    "thread = client.beta.threads.create(\n",
    "    messages=[\n",
    "        {\n",
    "            \"role\": \"user\",\n",
    "            \"content\": \"Research about the XZ backdoor\",\n",
    "        }\n",
    "    ]\n",
    ")\n",
    "\n",
    "thread"
   ]
  },
  {
   "cell_type": "code",
   "execution_count": 145,
   "metadata": {},
   "outputs": [],
   "source": [
    "def get_run(run_id, thread_id):\n",
    "    return client.beta.threads.runs.retrieve(thread_id=thread_id, run_id=run_id)\n",
    "\n",
    "\n",
    "def get_tool_outputs(run_id, thread_id):\n",
    "    run = get_run(run_id, thread_id)\n",
    "    outputs = []\n",
    "    for action in run.required_action.submit_tool_outputs.tool_calls:\n",
    "        function = action.function\n",
    "        print(f\"Calling function: {function.name} with arg {function.arguments}\")\n",
    "        outputs.append(\n",
    "            {\n",
    "                \"output\": functions_map[function.name](json.loads(function.arguments)),\n",
    "                \"tool_call_id\": action.id,\n",
    "            }\n",
    "        )\n",
    "    return outputs\n",
    "\n",
    "\n",
    "def submit_tool_outputs(run_id, thread_id):\n",
    "    outputs = get_tool_outputs(run_id, thread_id)\n",
    "    return client.beta.threads.runs.submit_tool_outputs(\n",
    "        run_id=run_id,\n",
    "        thread_id=thread_id,\n",
    "        tool_outputs=outputs,\n",
    "    )\n",
    "\n",
    "\n",
    "def get_messages(thread_id):\n",
    "    messages = client.beta.threads.messages.list(thread_id=thread_id)\n",
    "    messages = list(messages)\n",
    "    messages.reverse()\n",
    "    for message in messages:\n",
    "        print(f\"{message.role}: {message.content[0].text.value}\")\n",
    "\n",
    "\n",
    "def send_message(thread_id, content):\n",
    "    client.beta.threads.messages.create(\n",
    "        thread_id=thread_id, role=\"user\", content=content\n",
    "    )"
   ]
  },
  {
   "cell_type": "code",
   "execution_count": 157,
   "metadata": {},
   "outputs": [
    {
     "data": {
      "text/plain": [
       "Run(id='run_FuhrSDcxGB1CpDufaqyvAbLA', assistant_id='asst_FH0WYs6IBxzqPWDhZmhvX2fn', cancelled_at=None, completed_at=None, created_at=1713008746, expires_at=1713009346, failed_at=None, file_ids=[], instructions='\\n            You are a research specialist.\\n            Take a deep breath and proceed with the following step.\\n            1. Search for the information about a query using DuckDuckGo.\\n            2. Search for the information about a query using Wikipedia.\\n            3. Extract the content of a website if any url is included in the search result.\\n            4. Save all the search results in a text file, and it should contain all the information you have found in step 1, 2, and 3.\\n            ', last_error=None, metadata={}, model='gpt-4-turbo-preview', object='thread.run', required_action=None, started_at=None, status='queued', thread_id='thread_lPONvuP5DMhm5hHts18b2zn8', tools=[FunctionTool(function=FunctionDefinition(name='duckduckgo_search', description='Searches DuckDuckGo for the given query', parameters={'type': 'object', 'properties': {'query': {'type': 'string', 'description': 'The query to search for'}}, 'required': ['query']}), type='function'), FunctionTool(function=FunctionDefinition(name='wikipedia_search', description='Searches Wikipedia for the given query', parameters={'type': 'object', 'properties': {'query': {'type': 'string', 'description': 'The query to search for'}}, 'required': ['query']}), type='function'), FunctionTool(function=FunctionDefinition(name='website_scrape', description='Scrapes the content of the given website', parameters={'type': 'object', 'properties': {'url': {'type': 'string', 'description': 'The URL of the website to scrape'}}, 'required': ['url']}), type='function'), FunctionTool(function=FunctionDefinition(name='save_to_file', description='Saves the given data to a file', parameters={'type': 'object', 'properties': {'data': {'type': 'string', 'description': 'The data to save'}}, 'required': ['data']}), type='function')], usage=None, temperature=1.0, max_completion_tokens=None, max_prompt_tokens=None, truncation_strategy={'type': 'auto', 'last_messages': None}, incomplete_details=None, response_format='auto', tool_choice='auto')"
      ]
     },
     "execution_count": 157,
     "metadata": {},
     "output_type": "execute_result"
    }
   ],
   "source": [
    "run = client.beta.threads.runs.create(\n",
    "    thread_id=thread.id,\n",
    "    assistant_id=assistant_id,\n",
    ")\n",
    "run\n"
   ]
  },
  {
   "cell_type": "code",
   "execution_count": 166,
   "metadata": {},
   "outputs": [
    {
     "data": {
      "text/plain": [
       "'completed'"
      ]
     },
     "execution_count": 166,
     "metadata": {},
     "output_type": "execute_result"
    }
   ],
   "source": [
    "get_run(run.id, thread.id).status\n"
   ]
  },
  {
   "cell_type": "code",
   "execution_count": 165,
   "metadata": {},
   "outputs": [
    {
     "name": "stdout",
     "output_type": "stream",
     "text": [
      "Calling function: save_to_file with arg {\"data\":\"DuckDuckGo Search Results:\\n- Ethereum is a decentralized platform enabling smart contracts and powered by the cryptocurrency ether (ETH). Offers a comparison with Bitcoin, details on its proof-of-stake consensus mechanism, and notes on its applications and challenges.\\n- Provides links to Ethereum's Whitepaper, latest price, trading information, and market updates.\\n\\nWikipedia Search Results:\\nEthereum is a decentralized blockchain platform facilitating smart contract functionality, with Ether (ETH) as its native cryptocurrency. Founded in 2013 by Vitalik Buterin, Ethereum went live in 2015 and is now second only to Bitcoin in terms of market capitalization. It enables users to deploy permanent and immutable decentralized applications, with support for decentralized finance (DeFi), the creation and exchange of non-fungible tokens (NFTs), and the utilization of the ERC-20 token standard for other cryptocurrencies. Following the significant 'Merge' upgrade in September 2022, Ethereum switched from a proof-of-work (PoW) to a proof-of-stake (PoS) consensus mechanism, reducing its energy consumption by 99%.\\n\\nVitalik Buterin, one of the co-founders, is spotlighted for his early involvement in cryptocurrency and his pivotal role in the creation of Ethereum. The founding, development phases, and key milestones, such as the transition to proof-of-stake, are detailed extensively. Additionally, it discusses Ethereum Classic, the unaltered continuation of the original Ethereum's history following the DAO incident.\"}\n"
     ]
    },
    {
     "data": {
      "text/plain": [
       "Run(id='run_FuhrSDcxGB1CpDufaqyvAbLA', assistant_id='asst_FH0WYs6IBxzqPWDhZmhvX2fn', cancelled_at=None, completed_at=None, created_at=1713008746, expires_at=1713009346, failed_at=None, file_ids=[], instructions='\\n            You are a research specialist.\\n            Take a deep breath and proceed with the following step.\\n            1. Search for the information about a query using DuckDuckGo.\\n            2. Search for the information about a query using Wikipedia.\\n            3. Extract the content of a website if any url is included in the search result.\\n            4. Save all the search results in a text file, and it should contain all the information you have found in step 1, 2, and 3.\\n            ', last_error=None, metadata={}, model='gpt-4-turbo-preview', object='thread.run', required_action=None, started_at=1713008779, status='queued', thread_id='thread_lPONvuP5DMhm5hHts18b2zn8', tools=[FunctionTool(function=FunctionDefinition(name='duckduckgo_search', description='Searches DuckDuckGo for the given query', parameters={'type': 'object', 'properties': {'query': {'type': 'string', 'description': 'The query to search for'}}, 'required': ['query']}), type='function'), FunctionTool(function=FunctionDefinition(name='wikipedia_search', description='Searches Wikipedia for the given query', parameters={'type': 'object', 'properties': {'query': {'type': 'string', 'description': 'The query to search for'}}, 'required': ['query']}), type='function'), FunctionTool(function=FunctionDefinition(name='website_scrape', description='Scrapes the content of the given website', parameters={'type': 'object', 'properties': {'url': {'type': 'string', 'description': 'The URL of the website to scrape'}}, 'required': ['url']}), type='function'), FunctionTool(function=FunctionDefinition(name='save_to_file', description='Saves the given data to a file', parameters={'type': 'object', 'properties': {'data': {'type': 'string', 'description': 'The data to save'}}, 'required': ['data']}), type='function')], usage=None, temperature=1.0, max_completion_tokens=None, max_prompt_tokens=None, truncation_strategy={'type': 'auto', 'last_messages': None}, incomplete_details=None, response_format='auto', tool_choice='auto')"
      ]
     },
     "execution_count": 165,
     "metadata": {},
     "output_type": "execute_result"
    }
   ],
   "source": [
    "submit_tool_outputs(run.id, thread.id)"
   ]
  },
  {
   "cell_type": "code",
   "execution_count": 167,
   "metadata": {},
   "outputs": [
    {
     "name": "stdout",
     "output_type": "stream",
     "text": [
      "user: Research about the XZ backdoor\n",
      "assistant: The research about the XZ backdoor has been successfully conducted, and the findings have been saved in the **result.txt** file. This includes details from both DuckDuckGo and Wikipedia searches, providing a comprehensive overview of the incident, technical details, and the broader implications.\n",
      "user: Now do research about ethereum\n",
      "assistant: The research on Ethereum has been completed and the findings have been saved in the **result.txt** file. This file contains an extensive summary of Ethereum's background, development stages, technical mechanisms, major upgrades, and its vital place in the cryptocurrency landscape.\n"
     ]
    }
   ],
   "source": [
    "get_messages(thread.id)"
   ]
  },
  {
   "cell_type": "code",
   "execution_count": 156,
   "metadata": {},
   "outputs": [],
   "source": [
    "send_message(thread.id, \"Now do research about ethereum\")\n"
   ]
  }
 ],
 "metadata": {
  "kernelspec": {
   "display_name": "env",
   "language": "python",
   "name": "python3"
  },
  "language_info": {
   "codemirror_mode": {
    "name": "ipython",
    "version": 3
   },
   "file_extension": ".py",
   "mimetype": "text/x-python",
   "name": "python",
   "nbconvert_exporter": "python",
   "pygments_lexer": "ipython3",
   "version": "3.9.6"
  }
 },
 "nbformat": 4,
 "nbformat_minor": 2
}
