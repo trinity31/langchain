{
 "cells": [
  {
   "cell_type": "code",
   "execution_count": 54,
   "metadata": {},
   "outputs": [],
   "source": [
    "from langchain.utilities.duckduckgo_search import DuckDuckGoSearchAPIWrapper\n",
    "import yfinance\n",
    "import json\n",
    "import openai as client\n",
    "\n",
    "\n",
    "def get_ticker(inputs):\n",
    "    ddg = DuckDuckGoSearchAPIWrapper()\n",
    "    company_name = inputs[\"company_name\"]\n",
    "    return ddg.run(f\"Ticker symbol of {company_name}\")\n",
    "\n",
    "\n",
    "def get_income_statement(inputs):\n",
    "    ticker = inputs[\"ticker\"]\n",
    "    stock = yfinance.Ticker(ticker)\n",
    "    return json.dumps(stock.income_stmt.to_json())\n",
    "\n",
    "\n",
    "def get_balance_sheet(inputs):\n",
    "    ticker = inputs[\"ticker\"]\n",
    "    stock = yfinance.Ticker(ticker)\n",
    "    return json.dumps(stock.balance_sheet.to_json())\n",
    "\n",
    "\n",
    "def get_daily_stock_performance(inputs):\n",
    "    ticker = inputs[\"ticker\"]\n",
    "    stock = yfinance.Ticker(ticker)\n",
    "    return json.dumps(stock.history(period=\"3mo\").to_json())\n",
    "\n",
    "functions_map = {\n",
    "    \"get_ticker\": get_ticker,\n",
    "    \"get_income_statement\": get_income_statement,\n",
    "    \"get_balance_sheet\": get_balance_sheet,\n",
    "    \"get_daily_stock_performance\": get_daily_stock_performance,\n",
    "\n",
    "}\n",
    "\n",
    "functions = [\n",
    "    {\n",
    "        \"type\": \"function\",\n",
    "        \"function\": {\n",
    "            \"name\": \"get_ticker\",\n",
    "            \"description\": \"Given the name of a company returns its ticker symbol\",\n",
    "            \"parameters\": {\n",
    "                \"type\": \"object\",\n",
    "                \"properties\": {\n",
    "                    \"company_name\": {\n",
    "                        \"type\": \"string\",\n",
    "                        \"description\": \"The name of the company\",\n",
    "                    }\n",
    "                },\n",
    "                \"required\": [\"company_name\"],\n",
    "            },\n",
    "        },\n",
    "    },\n",
    "    {\n",
    "        \"type\": \"function\",\n",
    "        \"function\": {\n",
    "            \"name\": \"get_income_statement\",\n",
    "            \"description\": \"Given a ticker symbol (i.e AAPL) returns the company's income statement.\",\n",
    "            \"parameters\": {\n",
    "                \"type\": \"object\",\n",
    "                \"properties\": {\n",
    "                    \"ticker\": {\n",
    "                        \"type\": \"string\",\n",
    "                        \"description\": \"Ticker symbol of the company\",\n",
    "                    },\n",
    "                },\n",
    "                \"required\": [\"ticker\"],\n",
    "            },\n",
    "        },\n",
    "    },\n",
    "    {\n",
    "        \"type\": \"function\",\n",
    "        \"function\": {\n",
    "            \"name\": \"get_balance_sheet\",\n",
    "            \"description\": \"Given a ticker symbol (i.e AAPL) returns the company's balance sheet.\",\n",
    "            \"parameters\": {\n",
    "                \"type\": \"object\",\n",
    "                \"properties\": {\n",
    "                    \"ticker\": {\n",
    "                        \"type\": \"string\",\n",
    "                        \"description\": \"Ticker symbol of the company\",\n",
    "                    },\n",
    "                },\n",
    "                \"required\": [\"ticker\"],\n",
    "            },\n",
    "        },\n",
    "    },\n",
    "    {\n",
    "        \"type\": \"function\",\n",
    "        \"function\": {\n",
    "            \"name\": \"get_daily_stock_performance\",\n",
    "            \"description\": \"Given a ticker symbol (i.e AAPL) returns the performance of the stock for the last 100 days.\",\n",
    "            \"parameters\": {\n",
    "                \"type\": \"object\",\n",
    "                \"properties\": {\n",
    "                    \"ticker\": {\n",
    "                        \"type\": \"string\",\n",
    "                        \"description\": \"Ticker symbol of the company\",\n",
    "                    },\n",
    "                },\n",
    "                \"required\": [\"ticker\"],\n",
    "            },\n",
    "        },\n",
    "    },\n",
    "]"
   ]
  },
  {
   "cell_type": "code",
   "execution_count": 43,
   "metadata": {},
   "outputs": [
    {
     "data": {
      "text/plain": [
       "Thread(id='thread_RJVH51ISc06Jcq3Va4IaQQpK', created_at=1712901078, metadata={}, object='thread')"
      ]
     },
     "execution_count": 43,
     "metadata": {},
     "output_type": "execute_result"
    }
   ],
   "source": [
    "# assistant = client.beta.assistants.create(\n",
    "#     name=\"Investor Assistant\",\n",
    "#     instructions=\"You help users do research on publicly traded companies and you help users decide if they should buy the stock or not.\",\n",
    "#     model=\"gpt-4-turbo-preview\",\n",
    "#     tools=functions,\n",
    "# )\n",
    "\n",
    "assistant_id = \"asst_3fWoqVkNylH5dXbozxVl6o4s\"\n",
    "\n",
    "thread = client.beta.threads.create(\n",
    "    messages=[\n",
    "        {\n",
    "            \"role\": \"user\",\n",
    "            \"content\":\"I want to know if the Salesforce stock is a good buy\"\n",
    "        }\n",
    "    ]\n",
    ")\n",
    "\n",
    "thread"
   ]
  },
  {
   "cell_type": "code",
   "execution_count": 82,
   "metadata": {},
   "outputs": [
    {
     "data": {
      "text/plain": [
       "Run(id='run_yf1quQa05gIcViHN0gB6CcIg', assistant_id='asst_3fWoqVkNylH5dXbozxVl6o4s', cancelled_at=None, completed_at=None, created_at=1712903179, expires_at=1712903779, failed_at=None, file_ids=[], instructions='You help users do research on publicly traded companies and you help users decide if they should buy the stock or not.', last_error=None, metadata={}, model='gpt-4-turbo-preview', object='thread.run', required_action=None, started_at=None, status='queued', thread_id='thread_RJVH51ISc06Jcq3Va4IaQQpK', tools=[FunctionTool(function=FunctionDefinition(name='get_ticker', description='Given the name of a company returns its ticker symbol', parameters={'type': 'object', 'properties': {'company_name': {'type': 'string', 'description': 'The name of the company'}}, 'required': ['company_name']}), type='function'), FunctionTool(function=FunctionDefinition(name='get_income_statement', description=\"Given a ticker symbol (i.e AAPL) returns the company's income statement.\", parameters={'type': 'object', 'properties': {'ticker': {'type': 'string', 'description': 'Ticker symbol of the company'}}, 'required': ['ticker']}), type='function'), FunctionTool(function=FunctionDefinition(name='get_balance_sheet', description=\"Given a ticker symbol (i.e AAPL) returns the company's balance sheet.\", parameters={'type': 'object', 'properties': {'ticker': {'type': 'string', 'description': 'Ticker symbol of the company'}}, 'required': ['ticker']}), type='function'), FunctionTool(function=FunctionDefinition(name='get_daily_stock_performance', description='Given a ticker symbol (i.e AAPL) returns the performance of the stock for the last 100 days.', parameters={'type': 'object', 'properties': {'ticker': {'type': 'string', 'description': 'Ticker symbol of the company'}}, 'required': ['ticker']}), type='function')], usage=None, temperature=1.0)"
      ]
     },
     "execution_count": 82,
     "metadata": {},
     "output_type": "execute_result"
    }
   ],
   "source": [
    "run = client.beta.threads.runs.create(\n",
    "    thread_id=thread.id,\n",
    "    assistant_id=assistant_id,\n",
    ")\n",
    "run"
   ]
  },
  {
   "cell_type": "code",
   "execution_count": 49,
   "metadata": {},
   "outputs": [],
   "source": [
    "def get_run(run_id, thread_id):\n",
    "    return client.beta.threads.runs.retrieve(thread_id=thread_id, run_id=run_id)"
   ]
  },
  {
   "cell_type": "code",
   "execution_count": 25,
   "metadata": {},
   "outputs": [],
   "source": [
    "def get_messages(thread_id):\n",
    "    messages = client.beta.threads.messages.list(thread_id=thread_id)\n",
    "    messages = list(messages)\n",
    "    messages.reverse()\n",
    "    for message in messages:\n",
    "        print(f\"{message.role}: {message.content[0].text.value}\")\n"
   ]
  },
  {
   "cell_type": "code",
   "execution_count": 90,
   "metadata": {},
   "outputs": [
    {
     "data": {
      "text/plain": [
       "'completed'"
      ]
     },
     "execution_count": 90,
     "metadata": {},
     "output_type": "execute_result"
    }
   ],
   "source": [
    "get_run(run.id, thread.id).status"
   ]
  },
  {
   "cell_type": "code",
   "execution_count": 91,
   "metadata": {},
   "outputs": [
    {
     "name": "stdout",
     "output_type": "stream",
     "text": [
      "user: I want to know if the Salesforce stock is a good buy\n",
      "assistant: Analyzing whether Salesforce (CRM) stock is a good buy involves reviewing its financial statements and stock performance. Here’s a consolidated summary of the key aspects:\n",
      "\n",
      "### Income Statement Highlights:\n",
      "- **Total Revenue Growth**: There has been a steady increase in total revenue over the past few periods, indicating healthy business expansion.\n",
      "- **Net Income**: There's variability in net income; however, the most recent period shows a significant net income, reflecting a strong profitability aspect.\n",
      "- **Operating Expenses and Profit**: Salesforce has managed its operating expenses reasonably well, maintaining a stable operating income.\n",
      "\n",
      "### Balance Sheet Strengths:\n",
      "- **Total Assets**: The total assets have been growing, indicating expansion and possibly investment in growth opportunities.\n",
      "- **Liabilities and Equity**: While liabilities have also increased, the equity position remains robust, suggesting the company has been financing its growth efficiently.\n",
      "\n",
      "### Stock Performance for the Last 100 Days:\n",
      "- **Price Movement**: The stock has shown volatility but also periods of strong performance. The most recent prices suggest some recovery and potential upside momentum.\n",
      "\n",
      "### Analysis:\n",
      "Salesforce has shown solid revenue growth and a strong balance sheet, which are essential markers of a healthy company. Its ability to generate profit has varied but remains strong in the latest periods. The stock performance shows volatility, which is typical for tech companies but suggests a potential for growth given the overall trend and recent recovery.\n",
      "\n",
      "### Recommendation:\n",
      "Based on the financial health and stock performance, Salesforce appears to be a strong company. However, potential investors should consider their risk tolerance to volatility and the company's position in the competitive landscape of cloud computing and CRM solutions. Holding for the long term could potentially be beneficial as the company continues to grow and capitalize on its market position. Future investments should be closely monitored against broader market movements and any changes in the company's fundamentals.\n",
      "\n",
      "Investing in stocks always carries risk, and it's vital to diversify your portfolio. Salesforce, given its current metrics, might be a good addition, but it's critical to balance it with other investments to mitigate risks.\n",
      "user: Now I want to know if Cloudflare is a good buy\n",
      "assistant: Analyzing whether Cloudflare (NET) stock is a good buy involves looking at its financial performance, balance sheet strength, and recent stock trends.\n",
      "\n",
      "### Income Statement Highlights:\n",
      "- **Revenue Growth**: Cloudflare has demonstrated consistent revenue growth, indicating expanding business operations.\n",
      "- **Net Income**: The company has reported net losses in the analyzed periods, which is not uncommon for growing tech companies focusing on expansion. However, it's important to consider if these losses are narrowing over time.\n",
      "- **Operating Expenses**: High research and development (R&D) and sales and marketing expenses are typical for companies in the tech sector focusing on growth and market share.\n",
      "\n",
      "### Balance Sheet Strengths:\n",
      "- **Assets**: Cloudflare's assets have been increasing, suggesting investment in growth opportunities and asset acquisition.\n",
      "- **Liabilities and Equity**: The company has been financing its growth through both equity and debt, with a noticeable increase in total liabilities. It's essential to monitor the balance between leveraging for growth and maintaining financial stability.\n",
      "\n",
      "### Stock Performance for the Last 100 Days:\n",
      "- The stock has shown volatility with significant price swings, which could offer both risk and opportunity. The recent performance shows fluctuations, an aspect that investors with a higher risk tolerance might find appealing for potential gains.\n",
      "\n",
      "### Analysis:\n",
      "Cloudflare is in a growth phase, as evidenced by its revenue trends and strategic investments in R&D and marketing. The company operates in the competitive cloud computing and web infrastructure sector, with ample room for growth but also significant competition. The net losses highlight the strategic choice to focus on expansion over immediate profitability, a common approach in the tech industry.\n",
      "\n",
      "### Recommendation:\n",
      "Cloudflare might be a good buy for investors who are comfortable with its growth-oriented strategy and can tolerate the associated risks, including the ongoing net losses and market volatility. It seems well-positioned for future growth given its sector and current market position. However, due to its recent stock volatility, it's recommended for those with a higher risk tolerance and a long-term investment perspective.\n",
      "\n",
      "Investors should keep an eye on the company's future earnings reports and any strategic announcements that could affect its growth trajectory and market position. Diversifying investments to manage risk while holding Cloudflare could be a prudent approach.\n"
     ]
    }
   ],
   "source": [
    "get_messages(thread.id)\n"
   ]
  },
  {
   "cell_type": "code",
   "execution_count": 76,
   "metadata": {},
   "outputs": [],
   "source": [
    "def send_message(thread_id, content):\n",
    "    client.beta.threads.messages.create(thread_id=thread_id, role=\"user\", content=content)"
   ]
  },
  {
   "cell_type": "code",
   "execution_count": 66,
   "metadata": {},
   "outputs": [],
   "source": [
    "def get_tool_outputs(run_id, thread_id):\n",
    "    run = get_run(run_id, thread_id)\n",
    "    outputs = []\n",
    "    for action in run.required_action.submit_tool_outputs.tool_calls:\n",
    "        function = action.function\n",
    "        print(f\"Calling function: {function.name} with arg {function.arguments}\")\n",
    "        outputs.append(\n",
    "            {\n",
    "                \"output\": functions_map[function.name](json.loads(function.arguments)),\n",
    "                \"tool_call_id\": action.id,\n",
    "            }\n",
    "        )\n",
    "    return outputs\n",
    "\n",
    "def submit_tool_outputs(run_id, thread_id):\n",
    "    outputs = get_tool_outputs(run_id, thread_id)\n",
    "    return client.beta.threads.runs.submit_tool_outputs(\n",
    "        run_id=run_id,\n",
    "        thread_id=thread_id,\n",
    "        tool_outputs=outputs,\n",
    "    )"
   ]
  },
  {
   "cell_type": "code",
   "execution_count": 86,
   "metadata": {},
   "outputs": [
    {
     "name": "stdout",
     "output_type": "stream",
     "text": [
      "Calling function: get_income_statement with arg {\"ticker\": \"NET\"}\n",
      "Calling function: get_balance_sheet with arg {\"ticker\": \"NET\"}\n",
      "Calling function: get_daily_stock_performance with arg {\"ticker\": \"NET\"}\n"
     ]
    },
    {
     "data": {
      "text/plain": [
       "Run(id='run_yf1quQa05gIcViHN0gB6CcIg', assistant_id='asst_3fWoqVkNylH5dXbozxVl6o4s', cancelled_at=None, completed_at=None, created_at=1712903179, expires_at=1712903779, failed_at=None, file_ids=[], instructions='You help users do research on publicly traded companies and you help users decide if they should buy the stock or not.', last_error=None, metadata={}, model='gpt-4-turbo-preview', object='thread.run', required_action=None, started_at=1712903219, status='queued', thread_id='thread_RJVH51ISc06Jcq3Va4IaQQpK', tools=[FunctionTool(function=FunctionDefinition(name='get_ticker', description='Given the name of a company returns its ticker symbol', parameters={'type': 'object', 'properties': {'company_name': {'type': 'string', 'description': 'The name of the company'}}, 'required': ['company_name']}), type='function'), FunctionTool(function=FunctionDefinition(name='get_income_statement', description=\"Given a ticker symbol (i.e AAPL) returns the company's income statement.\", parameters={'type': 'object', 'properties': {'ticker': {'type': 'string', 'description': 'Ticker symbol of the company'}}, 'required': ['ticker']}), type='function'), FunctionTool(function=FunctionDefinition(name='get_balance_sheet', description=\"Given a ticker symbol (i.e AAPL) returns the company's balance sheet.\", parameters={'type': 'object', 'properties': {'ticker': {'type': 'string', 'description': 'Ticker symbol of the company'}}, 'required': ['ticker']}), type='function'), FunctionTool(function=FunctionDefinition(name='get_daily_stock_performance', description='Given a ticker symbol (i.e AAPL) returns the performance of the stock for the last 100 days.', parameters={'type': 'object', 'properties': {'ticker': {'type': 'string', 'description': 'Ticker symbol of the company'}}, 'required': ['ticker']}), type='function')], usage=None, temperature=1.0)"
      ]
     },
     "execution_count": 86,
     "metadata": {},
     "output_type": "execute_result"
    }
   ],
   "source": [
    "submit_tool_outputs(run.id, thread.id)"
   ]
  },
  {
   "cell_type": "code",
   "execution_count": 77,
   "metadata": {},
   "outputs": [],
   "source": [
    "send_message(thread.id, \"Now I want to know if Cloudflare is a good buy\")"
   ]
  }
 ],
 "metadata": {
  "kernelspec": {
   "display_name": "env",
   "language": "python",
   "name": "python3"
  },
  "language_info": {
   "codemirror_mode": {
    "name": "ipython",
    "version": 3
   },
   "file_extension": ".py",
   "mimetype": "text/x-python",
   "name": "python",
   "nbconvert_exporter": "python",
   "pygments_lexer": "ipython3",
   "version": "3.9.6"
  }
 },
 "nbformat": 4,
 "nbformat_minor": 2
}
