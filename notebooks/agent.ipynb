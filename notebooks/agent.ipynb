{
 "cells": [
  {
   "cell_type": "code",
   "execution_count": 4,
   "metadata": {},
   "outputs": [
    {
     "name": "stdout",
     "output_type": "stream",
     "text": [
      "\n",
      "\n",
      "\u001b[1m> Entering new AgentExecutor chain...\u001b[0m\n",
      "\u001b[32;1m\u001b[1;3m\n",
      "Invoking: `StockMarketSymbolSearchTool` with `{'query': 'Stock Market Symbol for Paypal'}`\n",
      "\n",
      "\n",
      "\u001b[0m\u001b[36;1m\u001b[1;3mThe latest PayPal stock prices, stock quotes, news, and PYPL history to help you invest and trade smarter. ... capturing the millennial market. With a 50% growth in the PayPal stock price since ... Historical Stock Quote. Investment Calculator. Chart the performance of an investment in PYPL relative to market indices or to another stock over time. Investment amount ($) Start date. End date. Compare to: S&P 500. Nasdaq 100. Dow 30. ... At PayPal, we promise to treat your data with respect and will not share your information with any third ... See the latest PayPal stock price and NASDAQ: PYPL stock rating, related news, valuation, dividends and more to help you make your investing decisions. PayPal Holdings Inc.'s latest outlook confirmed that 2024 will be another year of transition, and one analyst is moving to the sidelines on its stock after that commentary. Get a real-time PayPal Holdings, Inc. (PYPL) stock price quote with breaking news, financials, statistics, charts and more. Complete PayPal Holdings Inc. stock information by Barron's. View real-time PYPL stock price and news, along with industry-best analysis.\u001b[0m\u001b[32;1m\u001b[1;3mPaypal's stock market symbol is PYPL. \n",
      "\n",
      "To analyze if Paypal is a potential good investment, we can look at various factors such as the company's financial performance, growth prospects, competition, industry trends, and market conditions. \n",
      "\n",
      "Here are some key points to consider when evaluating Paypal as a potential investment:\n",
      "1. Financial Performance: Review Paypal's revenue growth, profitability, and cash flow generation over the past few years.\n",
      "2. Growth Prospects: Evaluate Paypal's expansion plans, new product offerings, and market penetration strategies.\n",
      "3. Competition: Analyze Paypal's competitive position in the digital payment industry and how it differentiates itself from competitors.\n",
      "4. Industry Trends: Consider the growth potential of the digital payment industry and how Paypal is positioned to benefit from these trends.\n",
      "5. Market Conditions: Assess the overall market conditions and economic outlook to determine if it's a favorable time to invest in Paypal.\n",
      "\n",
      "It's important to conduct thorough research and analysis before making any investment decisions. If you'd like more detailed information or assistance in analyzing Paypal's stock further, feel free to ask!\u001b[0m\n",
      "\n",
      "\u001b[1m> Finished chain.\u001b[0m\n"
     ]
    },
    {
     "data": {
      "text/plain": [
       "{'input': \"Give me information on Paypal's stock and help me analyze if it's a potential good investment. Also tell me what symbol does the stock have.\",\n",
       " 'output': \"Paypal's stock market symbol is PYPL. \\n\\nTo analyze if Paypal is a potential good investment, we can look at various factors such as the company's financial performance, growth prospects, competition, industry trends, and market conditions. \\n\\nHere are some key points to consider when evaluating Paypal as a potential investment:\\n1. Financial Performance: Review Paypal's revenue growth, profitability, and cash flow generation over the past few years.\\n2. Growth Prospects: Evaluate Paypal's expansion plans, new product offerings, and market penetration strategies.\\n3. Competition: Analyze Paypal's competitive position in the digital payment industry and how it differentiates itself from competitors.\\n4. Industry Trends: Consider the growth potential of the digital payment industry and how Paypal is positioned to benefit from these trends.\\n5. Market Conditions: Assess the overall market conditions and economic outlook to determine if it's a favorable time to invest in Paypal.\\n\\nIt's important to conduct thorough research and analysis before making any investment decisions. If you'd like more detailed information or assistance in analyzing Paypal's stock further, feel free to ask!\"}"
      ]
     },
     "execution_count": 4,
     "metadata": {},
     "output_type": "execute_result"
    }
   ],
   "source": [
    "from typing import Any, Type\n",
    "from langchain.chat_models import ChatOpenAI\n",
    "from langchain.tools import BaseTool\n",
    "from pydantic import BaseModel, Field\n",
    "from langchain.agents import initialize_agent, AgentType\n",
    "from langchain.utilities import DuckDuckGoSearchAPIWrapper\n",
    "\n",
    "llm = ChatOpenAI(temperature=0.1)\n",
    "\n",
    "\n",
    "class StockMarketSymbolSearchToolArgsSchema(BaseModel):\n",
    "    query: str = Field(\n",
    "        description=\"The query you will search for.Example query: Stock Market Symbol for Apple Company\"\n",
    "    )\n",
    "\n",
    "\n",
    "class StockMarketSymbolSearchTool(BaseTool):\n",
    "    name = \"StockMarketSymbolSearchTool\"\n",
    "    description = \"\"\"\n",
    "    Use this tool to find the stock market symbol for a company.\n",
    "    It takes a query as an argument.\n",
    "    \n",
    "    \"\"\"\n",
    "    args_schema: Type[StockMarketSymbolSearchToolArgsSchema] = (\n",
    "        StockMarketSymbolSearchToolArgsSchema\n",
    "    )\n",
    "\n",
    "    def _run(self, query):\n",
    "        ddg = DuckDuckGoSearchAPIWrapper()\n",
    "        return ddg.run(query)\n",
    "\n",
    "\n",
    "agent = initialize_agent(\n",
    "    llm=llm,\n",
    "    verbose=True,\n",
    "    agent=AgentType.OPENAI_FUNCTIONS,\n",
    "    handle_parsing_errors=True,\n",
    "    tools=[\n",
    "        StockMarketSymbolSearchTool(),\n",
    "    ],\n",
    ")\n",
    "\n",
    "prompt = \"Give me information on Paypal's stock and help me analyze if it's a potential good investment. Also tell me what symbol does the stock have.\"\n",
    "\n",
    "agent.invoke(prompt)"
   ]
  },
  {
   "cell_type": "code",
   "execution_count": null,
   "metadata": {},
   "outputs": [],
   "source": []
  }
 ],
 "metadata": {
  "kernelspec": {
   "display_name": "env",
   "language": "python",
   "name": "python3"
  },
  "language_info": {
   "codemirror_mode": {
    "name": "ipython",
    "version": 3
   },
   "file_extension": ".py",
   "mimetype": "text/x-python",
   "name": "python",
   "nbconvert_exporter": "python",
   "pygments_lexer": "ipython3",
   "version": "3.9.6"
  }
 },
 "nbformat": 4,
 "nbformat_minor": 2
}
