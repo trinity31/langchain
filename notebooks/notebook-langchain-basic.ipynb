{
 "cells": [
  {
   "cell_type": "code",
   "execution_count": 1,
   "metadata": {},
   "outputs": [
    {
     "name": "stdout",
     "output_type": "stream",
     "text": [
      "The distance between Korea and Malaysia is approximately 3,500 kilometers (2,175 miles) when measured in a straight line."
     ]
    },
    {
     "data": {
      "text/plain": [
       "'The distance between Korea and Malaysia is approximately 3,500 kilometers (2,175 miles) when measured in a straight line.'"
      ]
     },
     "execution_count": 1,
     "metadata": {},
     "output_type": "execute_result"
    }
   ],
   "source": [
    "from langchain.chat_models import ChatOpenAI\n",
    "from langchain.prompts import PromptTemplate, ChatPromptTemplate\n",
    "from langchain.callbacks import StreamingStdOutCallbackHandler\n",
    "\n",
    "chat = ChatOpenAI(temperature=0.1, streaming=True, callbacks=[StreamingStdOutCallbackHandler()])\n",
    "\n",
    "template = PromptTemplate.from_template(\n",
    "    \"What is the distance between {country_a} and {country_b}?\"\n",
    ")\n",
    "\n",
    "prompt = template.format(country_a=\"Korea\", country_b=\"Malaysia\")\n",
    "\n",
    "chat.predict(prompt)\n",
    "\n"
   ]
  },
  {
   "cell_type": "code",
   "execution_count": 2,
   "metadata": {},
   "outputs": [
    {
     "name": "stdout",
     "output_type": "stream",
     "text": [
      "Γεια σας! Το όνομά μου είναι Σωκράτης. Η απόσταση μεταξύ Ελλάδας και Ιταλίας εξαρτάται από την συγκεκριμένη πόλη στην Ελλάδα και την πόλη στην Ιταλία. Γενικά, η απόσταση μεταξύ των δύο χωρών είναι περίπου 800-1000 χιλιόμετρα, ανάλογα με το σημείο αναφοράς."
     ]
    },
    {
     "data": {
      "text/plain": [
       "AIMessageChunk(content='Γεια σας! Το όνομά μου είναι Σωκράτης. Η απόσταση μεταξύ Ελλάδας και Ιταλίας εξαρτάται από την συγκεκριμένη πόλη στην Ελλάδα και την πόλη στην Ιταλία. Γενικά, η απόσταση μεταξύ των δύο χωρών είναι περίπου 800-1000 χιλιόμετρα, ανάλογα με το σημείο αναφοράς.')"
      ]
     },
     "execution_count": 2,
     "metadata": {},
     "output_type": "execute_result"
    }
   ],
   "source": [
    "template = ChatPromptTemplate.from_messages(\n",
    "    [\n",
    "        (\"system\", \"You are a geopraphy expert. You only reply in {language}\"),\n",
    "        (\"ai\", \"Ciao, mi chiamo {name}!\"),\n",
    "        (\"human\", \"What is the distance between {country_a} and {country_b}? Also, what is your name?\")\n",
    "    ]\n",
    ")\n",
    "\n",
    "prompt = template.format_messages(\n",
    "    language=\"Greek\",\n",
    "    name=\"Socrates\",\n",
    "    country_b=\"Italy\",\n",
    "    country_a=\"Greece\"\n",
    ")\n",
    "\n",
    "chat.predict_messages(prompt)"
   ]
  },
  {
   "cell_type": "code",
   "execution_count": null,
   "metadata": {},
   "outputs": [],
   "source": []
  },
  {
   "cell_type": "code",
   "execution_count": 3,
   "metadata": {},
   "outputs": [
    {
     "data": {
      "text/plain": [
       "['Hello', 'how', 'are', 'you']"
      ]
     },
     "execution_count": 3,
     "metadata": {},
     "output_type": "execute_result"
    }
   ],
   "source": [
    "from langchain.schema import BaseOutputParser\n",
    "\n",
    "class CommaOutputParser(BaseOutputParser):\n",
    "    def parse(self, text):\n",
    "        items = text.strip().split(\",\")\n",
    "        return list(map(str.strip, items))\n",
    "\n",
    "p = CommaOutputParser()\n",
    "p.parse(\"Hello, how,are,you\")"
   ]
  },
  {
   "cell_type": "code",
   "execution_count": 4,
   "metadata": {},
   "outputs": [
    {
     "name": "stdout",
     "output_type": "stream",
     "text": [
      "Mercury, Venus, Earth, Mars, Jupiter, Saturn, Uranus, Neptune, Pluto"
     ]
    },
    {
     "data": {
      "text/plain": [
       "['Mercury',\n",
       " 'Venus',\n",
       " 'Earth',\n",
       " 'Mars',\n",
       " 'Jupiter',\n",
       " 'Saturn',\n",
       " 'Uranus',\n",
       " 'Neptune',\n",
       " 'Pluto']"
      ]
     },
     "execution_count": 4,
     "metadata": {},
     "output_type": "execute_result"
    }
   ],
   "source": [
    "template = ChatPromptTemplate.from_messages(\n",
    "    [\n",
    "        (\"system\", \"You are a list generating machine. Everything you  are asked will be answered with a comma seperated list of max {max_items}. Do not reply with anything else.\"),\n",
    "        (\"human\", \"{question}\")\n",
    "    ]\n",
    ")\n",
    "\n",
    "prompt = template.format_messages(\n",
    "    max_items=10,\n",
    "    question=\"What are the planets?\"\n",
    ")\n",
    "\n",
    "result = chat.predict_messages(prompt)\n",
    "\n",
    "p = CommaOutputParser()\n",
    "p.parse(result.content)\n"
   ]
  },
  {
   "cell_type": "code",
   "execution_count": 5,
   "metadata": {},
   "outputs": [
    {
     "name": "stdout",
     "output_type": "stream",
     "text": [
      "Red, blue, green, yellow, orange"
     ]
    },
    {
     "data": {
      "text/plain": [
       "['Red', 'blue', 'green', 'yellow', 'orange']"
      ]
     },
     "execution_count": 5,
     "metadata": {},
     "output_type": "execute_result"
    }
   ],
   "source": [
    "\n",
    "chain = template | chat | p\n",
    "\n",
    "chain.invoke({\n",
    "    \"max_items\": 5,\n",
    "    \"question\": \"What are the colors?\"\n",
    "})"
   ]
  },
  {
   "cell_type": "code",
   "execution_count": 6,
   "metadata": {},
   "outputs": [
    {
     "name": "stdout",
     "output_type": "stream",
     "text": [
      "Great choice! Indian cuisine is known for its bold flavors and aromatic spices. Let's start with a classic recipe for Chicken Tikka Masala, a popular dish loved by many. Here's a simple recipe for you to try at home:\n",
      "\n",
      "Chicken Tikka Masala\n",
      "\n",
      "Ingredients:\n",
      "- 1 lb boneless, skinless chicken breasts, cut into bite-sized pieces\n",
      "- 1 cup plain yogurt\n",
      "- 2 tbsp lemon juice\n",
      "- 2 tsp ground cumin\n",
      "- 2 tsp ground coriander\n",
      "- 1 tsp turmeric\n",
      "- 1 tsp paprika\n",
      "- 1 tsp garam masala\n",
      "- 1/2 tsp cayenne pepper (adjust to taste)\n",
      "- Salt and pepper to taste\n",
      "- 2 tbsp vegetable oil\n",
      "- 1 onion, finely chopped\n",
      "- 3 cloves garlic, minced\n",
      "- 1-inch piece of ginger, grated\n",
      "- 1 can (14 oz) crushed tomatoes\n",
      "- 1 cup heavy cream\n",
      "- Fresh cilantro, chopped (for garnish)\n",
      "\n",
      "Instructions:\n",
      "1. In a bowl, mix together yogurt, lemon juice, cumin, coriander, turmeric, paprika, garam masala, cayenne pepper, salt, and pepper. Add the chicken pieces and coat them well with the marinade. Cover and refrigerate for at least 1 hour, or overnight for best results.\n",
      "\n",
      "2. Preheat the oven to 400°F (200°C). Thread the marinated chicken onto skewers and place them on a baking sheet. Bake for 20-25 minutes, or until the chicken is cooked through.\n",
      "\n",
      "3. In a large skillet, heat vegetable oil over medium heat. Add the chopped onion and cook until softened, about 5 minutes. Add the garlic and ginger, and cook for another minute.\n",
      "\n",
      "4. Stir in the crushed tomatoes and simmer for 10 minutes, stirring occasionally.\n",
      "\n",
      "5. Add the heavy cream and cooked chicken tikka pieces to the skillet. Simmer for an additional 10 minutes, allowing the flavors to meld together.\n",
      "\n",
      "6. Serve the Chicken Tikka Masala over steamed rice, garnished with fresh cilantro. Enjoy your delicious homemade Indian meal!\n",
      "\n",
      "Feel free to adjust the spice levels to suit your taste preferences. Enjoy your culinary journey into the world of Indian cuisine!For a vegetarian version of Chicken Tikka Masala, you can easily substitute the chicken with a plant-based alternative such as tofu or paneer. Here's how you can adapt the recipe:\n",
      "\n",
      "**Vegetarian Tikka Masala**\n",
      "\n",
      "**Ingredients:**\n",
      "- 1 block of firm tofu or paneer, cut into bite-sized cubes\n",
      "- 1 cup plain yogurt (you can use dairy-free yogurt for a vegan option)\n",
      "- 2 tbsp lemon juice\n",
      "- 2 tsp ground cumin\n",
      "- 2 tsp ground coriander\n",
      "- 1 tsp turmeric\n",
      "- 1 tsp paprika\n",
      "- 1 tsp garam masala\n",
      "- 1/2 tsp cayenne pepper (adjust to taste)\n",
      "- Salt and pepper to taste\n",
      "- 2 tbsp vegetable oil\n",
      "- 1 onion, finely chopped\n",
      "- 3 cloves garlic, minced\n",
      "- 1-inch piece of ginger, grated\n",
      "- 1 can (14 oz) crushed tomatoes\n",
      "- 1 cup coconut cream (or dairy-free heavy cream alternative)\n",
      "- Fresh cilantro, chopped (for garnish)\n",
      "\n",
      "**Instructions:**\n",
      "1. Follow the same marinating process as the original recipe, substituting the chicken with tofu or paneer. Coat the tofu or paneer well with the marinade and refrigerate for at least 1 hour.\n",
      "2. Instead of baking, you can pan-fry the marinated tofu or paneer until golden brown on all sides.\n",
      "3. Proceed with the recipe as instructed, starting with sautéing the onion, garlic, and ginger in vegetable oil.\n",
      "4. Add the crushed tomatoes and simmer for 10 minutes.\n",
      "5. Stir in the coconut cream (or dairy-free alternative) and the cooked tofu or paneer. Simmer for an additional 10 minutes to allow the flavors to meld together.\n",
      "6. Serve the Vegetarian Tikka Masala over steamed rice, garnished with fresh cilantro.\n",
      "\n",
      "By making these simple swaps, you can enjoy a flavorful and satisfying vegetarian version of this classic Indian dish. Enjoy your culinary creation!"
     ]
    },
    {
     "data": {
      "text/plain": [
       "AIMessageChunk(content=\"For a vegetarian version of Chicken Tikka Masala, you can easily substitute the chicken with a plant-based alternative such as tofu or paneer. Here's how you can adapt the recipe:\\n\\n**Vegetarian Tikka Masala**\\n\\n**Ingredients:**\\n- 1 block of firm tofu or paneer, cut into bite-sized cubes\\n- 1 cup plain yogurt (you can use dairy-free yogurt for a vegan option)\\n- 2 tbsp lemon juice\\n- 2 tsp ground cumin\\n- 2 tsp ground coriander\\n- 1 tsp turmeric\\n- 1 tsp paprika\\n- 1 tsp garam masala\\n- 1/2 tsp cayenne pepper (adjust to taste)\\n- Salt and pepper to taste\\n- 2 tbsp vegetable oil\\n- 1 onion, finely chopped\\n- 3 cloves garlic, minced\\n- 1-inch piece of ginger, grated\\n- 1 can (14 oz) crushed tomatoes\\n- 1 cup coconut cream (or dairy-free heavy cream alternative)\\n- Fresh cilantro, chopped (for garnish)\\n\\n**Instructions:**\\n1. Follow the same marinating process as the original recipe, substituting the chicken with tofu or paneer. Coat the tofu or paneer well with the marinade and refrigerate for at least 1 hour.\\n2. Instead of baking, you can pan-fry the marinated tofu or paneer until golden brown on all sides.\\n3. Proceed with the recipe as instructed, starting with sautéing the onion, garlic, and ginger in vegetable oil.\\n4. Add the crushed tomatoes and simmer for 10 minutes.\\n5. Stir in the coconut cream (or dairy-free alternative) and the cooked tofu or paneer. Simmer for an additional 10 minutes to allow the flavors to meld together.\\n6. Serve the Vegetarian Tikka Masala over steamed rice, garnished with fresh cilantro.\\n\\nBy making these simple swaps, you can enjoy a flavorful and satisfying vegetarian version of this classic Indian dish. Enjoy your culinary creation!\")"
      ]
     },
     "execution_count": 6,
     "metadata": {},
     "output_type": "execute_result"
    }
   ],
   "source": [
    "chef_prompt = ChatPromptTemplate.from_messages([\n",
    "    (\"system\", \"You are a world class international chef. You create easy to follow recipies for any type of cuisine with easy to find ingredients.\"),\n",
    "    (\"human\", \"I want to cook {cuisine} food.\")\n",
    "    ]\n",
    ")\n",
    "\n",
    "chef_chain = chef_prompt | chat\n",
    "\n",
    "veg_chef_prompt = ChatPromptTemplate.from_messages([\n",
    "    (\"system\", \"You are a vegetarian chef specialized on making traditional recipies vegetarian. You find alternative ingredients and explain their preparation. You don't radically modify the recipe. If there is no alternative for a food just say you don't know how to replace it.\"),\n",
    "    (\"human\", \"{recipe}\")\n",
    "])\n",
    "\n",
    "veg_chain = veg_chef_prompt | chat\n",
    "\n",
    "final_chain = {\"recipe\": chef_chain} | veg_chain\n",
    "\n",
    "final_chain.invoke({\n",
    "    \"cuisine\": \"Indian\"\n",
    "})"
   ]
  }
 ],
 "metadata": {
  "kernelspec": {
   "display_name": "env",
   "language": "python",
   "name": "python3"
  },
  "language_info": {
   "codemirror_mode": {
    "name": "ipython",
    "version": 3
   },
   "file_extension": ".py",
   "mimetype": "text/x-python",
   "name": "python",
   "nbconvert_exporter": "python",
   "pygments_lexer": "ipython3",
   "version": "3.9.6"
  }
 },
 "nbformat": 4,
 "nbformat_minor": 2
}
