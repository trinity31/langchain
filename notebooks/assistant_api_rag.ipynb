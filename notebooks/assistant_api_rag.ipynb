{
 "cells": [
  {
   "cell_type": "code",
   "execution_count": 14,
   "metadata": {},
   "outputs": [],
   "source": [
    "import openai as client\n",
    "\n",
    "# assistant = client.beta.assistants.create(\n",
    "#     name=\"Book Assistant\",\n",
    "#     instructions=\"You help users with their question on the files they upload.\",\n",
    "#     model=\"gpt-4-turbo-preview\",\n",
    "#     tools=[{\"type\": \"retrieval\"}],\n",
    "# )\n",
    "\n",
    "assistant_id = \"asst_d2tcbt5m2JDBHrz8aHHEQ8U7\""
   ]
  },
  {
   "cell_type": "code",
   "execution_count": 15,
   "metadata": {},
   "outputs": [
    {
     "data": {
      "text/plain": [
       "Thread(id='thread_NdOoFDYd7JK4KCA7ua1FTuH1', created_at=1712905055, metadata={}, object='thread')"
      ]
     },
     "execution_count": 15,
     "metadata": {},
     "output_type": "execute_result"
    }
   ],
   "source": [
    "thread = client.beta.threads.create(\n",
    "    messages=[\n",
    "        {\n",
    "            \"role\": \"user\",\n",
    "            \"content\": \"I want you to help me with this file\",\n",
    "        }\n",
    "    ]\n",
    ")\n",
    "thread"
   ]
  },
  {
   "cell_type": "code",
   "execution_count": 60,
   "metadata": {},
   "outputs": [
    {
     "data": {
      "text/plain": [
       "FileObject(id='file-NSocxfGL9yuBlmJP9VduyZMc', bytes=4045, created_at=1712906367, filename='lotus.txt', object='file', purpose='assistants', status='processed', status_details=None)"
      ]
     },
     "execution_count": 60,
     "metadata": {},
     "output_type": "execute_result"
    }
   ],
   "source": [
    "\n",
    "file = client.files.create(file=open(\"./files/lotus.txt\", \"rb\"), purpose=\"assistants\")\n",
    "file"
   ]
  },
  {
   "cell_type": "code",
   "execution_count": 61,
   "metadata": {},
   "outputs": [
    {
     "data": {
      "text/plain": [
       "Message(id='msg_vDNKcrsbaS50ebNAw2rz0f3V', assistant_id=None, completed_at=None, content=[TextContentBlock(text=Text(annotations=[], value='What is this story about?'), type='text')], created_at=1712906370, file_ids=['file-NSocxfGL9yuBlmJP9VduyZMc'], incomplete_at=None, incomplete_details=None, metadata={}, object='thread.message', role='user', run_id=None, status=None, thread_id='thread_NdOoFDYd7JK4KCA7ua1FTuH1')"
      ]
     },
     "execution_count": 61,
     "metadata": {},
     "output_type": "execute_result"
    }
   ],
   "source": [
    "client.beta.threads.messages.create(\n",
    "    thread_id=thread.id,\n",
    "    role=\"user\",\n",
    "    content=\"What is this story about?\",\n",
    "    file_ids=[file.id],\n",
    ")\n",
    "\n"
   ]
  },
  {
   "cell_type": "code",
   "execution_count": 39,
   "metadata": {},
   "outputs": [],
   "source": [
    "def get_messages(thread_id):\n",
    "    messages = client.beta.threads.messages.list(thread_id=thread_id)\n",
    "    messages = list(messages)\n",
    "    messages.reverse()\n",
    "   # print(messages)\n",
    "    for message in messages:\n",
    "        print(f\"{message.role}: {message.content}\")"
   ]
  },
  {
   "cell_type": "code",
   "execution_count": 65,
   "metadata": {},
   "outputs": [
    {
     "name": "stdout",
     "output_type": "stream",
     "text": [
      "user: [TextContentBlock(text=Text(annotations=[], value='I want you to help me with this file'), type='text')]\n",
      "user: []\n",
      "assistant: [TextContentBlock(text=Text(annotations=[], value=\"It seems there was an issue, and I can't access the file you've uploaded. Could you please provide more details about how I can assist you with it?\"), type='text')]\n",
      "user: []\n",
      "assistant: [TextContentBlock(text=Text(annotations=[], value=\"It appears there was another issue, and I still can't access the file you uploaded. To help you effectively, I'll need a bit more information about the file or the kind of assistance you require with it. Could you describe what you need help with?\"), type='text')]\n",
      "user: []\n",
      "assistant: [TextContentBlock(text=Text(annotations=[], value=\"It seems there's a recurring issue with accessing the files you've uploaded, as I'm unable to open them directly. However, I'm here to help, so could you please provide more details or instructions on how I can assist you with the file?\"), type='text')]\n",
      "user: []\n",
      "user: []\n",
      "assistant: [TextContentBlock(text=Text(annotations=[], value=\"I'm here to assist you, but it appears I'm still having difficulty accessing the files you've uploaded. In order to provide the help you need, could you please specify what you're looking for or provide some details about the content or issue with the file? Your guidance will enable me to assist you more effectively.\"), type='text')]\n",
      "user: []\n",
      "user: []\n",
      "assistant: [TextContentBlock(text=Text(annotations=[], value=\"I understand you may be encountering issues or have specific needs related to the files you've uploaded, but I'm currently unable to access them directly due to system limitations.\\n\\nTo assist you better, could you please provide more context or specify the type of help you need with the uploaded files? Whether it's about the content, format, analysis, or something else, any additional information you provide will be valuable.\"), type='text')]\n",
      "user: [TextContentBlock(text=Text(annotations=[], value='What is this story about?'), type='text')]\n",
      "assistant: [TextContentBlock(text=Text(annotations=[], value=\"Given the current limitations that prevent me from accessing the file directly, I'm unable to provide a specific analysis or summary of its content. However, I aim to help you as best as I can. \\n\\nIf you could provide a brief excerpt or description of the file's content, or if there are specific aspects of the story you're curious about, I would be glad to offer my assistance based on that information.\"), type='text')]\n",
      "user: [TextContentBlock(text=Text(annotations=[], value='What is this story about?'), type='text')]\n",
      "assistant: [TextContentBlock(text=Text(annotations=[], value=\"I apologize for the continued difficulties in accessing the files directly. Sadly, without being able to open and read the content, I can't provide a specific description or summary of the story.\\n\\nHowever, if you could share a few details such as the title, author, or any key points you're interested in, I'll do my best to assist you with general information or guidance based on that.\"), type='text')]\n",
      "user: [TextContentBlock(text=Text(annotations=[], value='What is this story about?'), type='text')]\n",
      "assistant: [TextContentBlock(text=Text(annotations=[], value=\"I'm currently unable to directly access or retrieve information from the files you've uploaded due to system limitations. However, I'm here to help with any request you have to the best of my ability.\\n\\nCould you provide a brief description or key elements of the story you're referring to? This would greatly aid in giving you a more tailored response or assistance.\"), type='text')]\n"
     ]
    }
   ],
   "source": [
    "get_messages(thread.id)\n"
   ]
  },
  {
   "cell_type": "code",
   "execution_count": 62,
   "metadata": {},
   "outputs": [
    {
     "data": {
      "text/plain": [
       "Run(id='run_pzoQJIGVnMXTHR7R2hKcHScc', assistant_id='asst_d2tcbt5m2JDBHrz8aHHEQ8U7', cancelled_at=None, completed_at=None, created_at=1712906374, expires_at=1712906974, failed_at=None, file_ids=[], instructions='You help users with their question on the files they upload.', last_error=None, metadata={}, model='gpt-4-turbo-preview', object='thread.run', required_action=None, started_at=None, status='queued', thread_id='thread_NdOoFDYd7JK4KCA7ua1FTuH1', tools=[RetrievalTool(type='retrieval')], usage=None, temperature=1.0)"
      ]
     },
     "execution_count": 62,
     "metadata": {},
     "output_type": "execute_result"
    }
   ],
   "source": [
    "run = client.beta.threads.runs.create(\n",
    "    thread_id=thread.id,\n",
    "    assistant_id=assistant_id,\n",
    ")\n",
    "run"
   ]
  },
  {
   "cell_type": "code",
   "execution_count": 21,
   "metadata": {},
   "outputs": [],
   "source": [
    "def get_run(run_id, thread_id):\n",
    "    return client.beta.threads.runs.retrieve(thread_id=thread_id, run_id=run_id)\n",
    "\n"
   ]
  },
  {
   "cell_type": "code",
   "execution_count": 64,
   "metadata": {},
   "outputs": [
    {
     "data": {
      "text/plain": [
       "'completed'"
      ]
     },
     "execution_count": 64,
     "metadata": {},
     "output_type": "execute_result"
    }
   ],
   "source": [
    "get_run(run.id, thread.id).status"
   ]
  }
 ],
 "metadata": {
  "kernelspec": {
   "display_name": "env",
   "language": "python",
   "name": "python3"
  },
  "language_info": {
   "codemirror_mode": {
    "name": "ipython",
    "version": 3
   },
   "file_extension": ".py",
   "mimetype": "text/x-python",
   "name": "python",
   "nbconvert_exporter": "python",
   "pygments_lexer": "ipython3",
   "version": "3.9.6"
  }
 },
 "nbformat": 4,
 "nbformat_minor": 2
}
