{
 "cells": [
  {
   "cell_type": "code",
   "execution_count": 5,
   "metadata": {},
   "outputs": [],
   "source": [
    "from langchain.chat_models import ChatOpenAI\n",
    "\n",
    "from langchain.document_loaders import UnstructuredFileLoader, CSVLoader\n",
    "from langchain.text_splitter import (\n",
    "    CharacterTextSplitter,\n",
    "    RecursiveCharacterTextSplitter,\n",
    ")\n",
    "from langchain.embeddings import OpenAIEmbeddings, CacheBackedEmbeddings\n",
    "from langchain.vectorstores import Chroma\n",
    "from langchain.storage import LocalFileStore\n",
    "\n",
    "cache_dir = LocalFileStore(\"./.cache/\")\n",
    "\n",
    "recursiveSplitter = RecursiveCharacterTextSplitter()\n",
    "\n",
    "loader = CSVLoader(\"./files/unique_spaces.csv\")\n",
    "\n",
    "docs = loader.load_and_split(text_splitter=recursiveSplitter)\n",
    "\n",
    "len(docs)\n",
    "\n",
    "embeddings = OpenAIEmbeddings()\n",
    "\n",
    "cached_embeddings = CacheBackedEmbeddings.from_bytes_store(embeddings, cache_dir)\n",
    "\n",
    "vectorstore = Chroma.from_documents(docs, cached_embeddings)"
   ]
  },
  {
   "cell_type": "code",
   "execution_count": 7,
   "metadata": {},
   "outputs": [
    {
     "data": {
      "text/plain": [
       "[Document(page_content='ID: 660\\nTitle: 치유요가\\nCategory: 요가,명상\\nLocation: 서울 서초구 서초동\\nDistance from center: 0.73\\nCenter Longitude: 127.00955700000002\\nCenter Latitude: 37.481628\\nTile ID: 151', metadata={'row': 419, 'source': './files/unique_spaces.csv'}),\n",
       " Document(page_content='ID: 660\\nTitle: 치유요가\\nCategory: 요가,명상\\nLocation: 서울 서초구 서초동\\nDistance from center: 0.73\\nCenter Longitude: 127.00955700000002\\nCenter Latitude: 37.481628\\nTile ID: 151', metadata={'row': 419, 'source': './files/unique_spaces.csv'}),\n",
       " Document(page_content='ID: 2698\\nTitle: 캄요가\\nCategory: 요가,명상\\nLocation: 남양주 다산동\\nDistance from center: 0.27\\nCenter Longitude: 127.15355700000002\\nCenter Latitude: 37.625628000000006\\nTile ID: 373', metadata={'row': 1521, 'source': './files/unique_spaces.csv'}),\n",
       " Document(page_content='ID: 2698\\nTitle: 캄요가\\nCategory: 요가,명상\\nLocation: 남양주 다산동\\nDistance from center: 0.27\\nCenter Longitude: 127.15355700000002\\nCenter Latitude: 37.625628000000006\\nTile ID: 373', metadata={'row': 1521, 'source': './files/unique_spaces.csv'})]"
      ]
     },
     "execution_count": 7,
     "metadata": {},
     "output_type": "execute_result"
    }
   ],
   "source": [
    "results = vectorstore.similarity_search(\"서초구\")\n",
    "\n",
    "results"
   ]
  }
 ],
 "metadata": {
  "kernelspec": {
   "display_name": "env",
   "language": "python",
   "name": "python3"
  },
  "language_info": {
   "codemirror_mode": {
    "name": "ipython",
    "version": 3
   },
   "file_extension": ".py",
   "mimetype": "text/x-python",
   "name": "python",
   "nbconvert_exporter": "python",
   "pygments_lexer": "ipython3",
   "version": "3.9.6"
  }
 },
 "nbformat": 4,
 "nbformat_minor": 2
}
