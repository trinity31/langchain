{
 "cells": [
  {
   "cell_type": "code",
   "execution_count": 13,
   "metadata": {},
   "outputs": [
    {
     "name": "stdout",
     "output_type": "stream",
     "text": [
      "\n",
      "            Title: Jurassic Park\n",
      "            Director: Steven Spielberg\n",
      "            Cast: Sam Neill, Laura Dern, Jeff Goldblum, Richard Attenborough, Samuel L. Jackson, Wayne Knight\n",
      "            Genre: Science Fiction/Adventure,\n",
      "            Synopsis: Based on the novel by Michael Crichton, \"Jurassic Park\" follows a group of scientists who are invited to preview a new theme park featuring genetically engineered dinosaurs. When the park's security systems fail, the dinosaurs escape and wreak havoc on the island, putting the visitors' lives in danger.\n",
      "            Budget: $63 million\n",
      "            Box office revenue: \"Jurassic Park\" was a massive box office success, grossing over $1 billion worldwide. It was praised for its groundbreaking visual effects, thrilling storyline, and memorable characters. The film's success led to several sequels and a lasting impact on popular culture."
     ]
    },
    {
     "data": {
      "text/plain": [
       "AIMessageChunk(content='\\n            Title: Jurassic Park\\n            Director: Steven Spielberg\\n            Cast: Sam Neill, Laura Dern, Jeff Goldblum, Richard Attenborough, Samuel L. Jackson, Wayne Knight\\n            Genre: Science Fiction/Adventure,\\n            Synopsis: Based on the novel by Michael Crichton, \"Jurassic Park\" follows a group of scientists who are invited to preview a new theme park featuring genetically engineered dinosaurs. When the park\\'s security systems fail, the dinosaurs escape and wreak havoc on the island, putting the visitors\\' lives in danger.\\n            Budget: $63 million\\n            Box office revenue: \"Jurassic Park\" was a massive box office success, grossing over $1 billion worldwide. It was praised for its groundbreaking visual effects, thrilling storyline, and memorable characters. The film\\'s success led to several sequels and a lasting impact on popular culture.')"
      ]
     },
     "execution_count": 13,
     "metadata": {},
     "output_type": "execute_result"
    }
   ],
   "source": [
    "from langchain.chat_models import ChatOpenAI\n",
    "from langchain.prompts import ChatPromptTemplate\n",
    "from langchain.prompts.few_shot import FewShotChatMessagePromptTemplate\n",
    "from langchain.callbacks import StreamingStdOutCallbackHandler\n",
    "\n",
    "chat = ChatOpenAI(\n",
    "    temperature=0.1,\n",
    "    streaming=True,\n",
    "    callbacks=[StreamingStdOutCallbackHandler()]\n",
    ")\n",
    "\n",
    "movie_examples = [\n",
    "    {\n",
    "        \"title\": \"Damsel\",\n",
    "        \"answer\": \"\"\"\n",
    "            Title: Damsel\n",
    "            Director: Juan Carlos Fresnadillo\n",
    "            Cast: Millie Bobby Brown, Ray Winstone, Nick Robinson, Shohreh Aghdashloo\n",
    "            Genre: Action/Fantasy,\n",
    "            Synopsis: A young woman agrees to marry a prince but finds out she's been recruited for a dangerous mission by the royal family.\n",
    "            Budget: $60 million\n",
    "            Box office revenue: 35.3 million views on Netflix in its first three days of streaming, which placed it at number one in 79 countries​\n",
    "        \"\"\"\n",
    "    },\n",
    "   {\n",
    "        \"title\": \"Dune\",\n",
    "        \"answer\": \"\"\"\n",
    "            Title: Dune\n",
    "            Director: Denis Villeneuve\n",
    "            Cast: Timothée Chalamet, Rebecca Ferguson, Oscar Isaac, Josh Brolin, Stellan Skarsgård, Dave Bautista, Zendaya, David Dastmalchian, Stephen McKinley Henderson, Chang Chen, Sharon Duncan-Brewster, Charlotte Rampling, Jason Momoa, and Javier Bardem\n",
    "            Genre: Sci-Fi/Adventure,\n",
    "            Synopsis: A brilliant and gifted young man born into a great destiny beyond his understanding must travel to the most dangerous planet in the universe to ensure the future of his family and his people. As malevolent forces explode into conflict over the planet's exclusive supply of the most precious resource in existence—a commodity capable of unlocking humanity's greatest potential—only those who can conquer their fear will survive.\n",
    "            Budget: Estimated $165 million\n",
    "            Box office revenue:  \"Dune\" grossed $400.6 million worldwide. It was a critical and commercial success, receiving praise for its visuals, direction, and ambition. It performed well across various markets, with a significant portion of its earnings coming from international markets.\n",
    "        \"\"\"\n",
    "    },\n",
    "    {\n",
    "        \"title\": \"The Grand Budapest Hotel\",\n",
    "        \"answer\": \"\"\"\n",
    "            Title: The Grand Budapest Hotel\n",
    "            Director: Wes Anderson\n",
    "            Cast: Ralph Fiennes, F. Murray Abraham, Mathieu Amalric, Adrien Brody, Willem Dafoe, Jeff Goldblum, Harvey Keitel, Jude Law, Bill Murray, Edward Norton, Saoirse Ronan, Jason Schwartzman, Léa Seydoux, Tilda Swinton, Tom Wilkinson, Owen Wilson\n",
    "            Genre: Comedy/Drama,\n",
    "            Synopsis: The film recounts the adventures of Gustave H, a legendary concierge at a famous European hotel between the wars, and Zero Moustafa, the lobby boy who becomes his most trusted friend. The story involves the theft and recovery of a priceless Renaissance painting and the battle for an enormous family fortune—all against the backdrop of a suddenly and dramatically changing continent.\n",
    "            Budget: $24 million\n",
    "            Box office revenue: Grossed over $174 million worldwide. The film was not only a financial success but also received critical acclaim for its unique storytelling, visual style, and performances. It became a favorite among audiences and critics alike, securing a spot in the hearts of many as a modern classic.\n",
    "        \"\"\"\n",
    "    },\n",
    "]\n",
    "\n",
    "chat_prompt = ChatPromptTemplate.from_messages(\n",
    "    [\n",
    "        (\"human\", \"Tell me the information about the movie {title}\"),\n",
    "        (\"ai\", \"{answer}\")\n",
    "    ]\n",
    ")\n",
    "\n",
    "example_prompt = FewShotChatMessagePromptTemplate(\n",
    "    example_prompt = chat_prompt,\n",
    "    examples = movie_examples\n",
    ")\n",
    "\n",
    "final_prompt = ChatPromptTemplate.from_messages([\n",
    "    (\"system\", \"You are a movie expert. You give detailed information about movies.\"),\n",
    "    example_prompt,\n",
    "    (\"human\",  \"Tell me the information about the movie {title}\"),\n",
    "])\n",
    "\n",
    "chain = final_prompt | chat\n",
    "\n",
    "chain.invoke({\"title\": \"Jurassic Park\"})\n",
    "\n"
   ]
  }
 ],
 "metadata": {
  "kernelspec": {
   "display_name": "env",
   "language": "python",
   "name": "python3"
  },
  "language_info": {
   "name": "python",
   "version": "3.9.6"
  }
 },
 "nbformat": 4,
 "nbformat_minor": 2
}
