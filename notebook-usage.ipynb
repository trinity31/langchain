{
 "cells": [
  {
   "cell_type": "code",
   "execution_count": 6,
   "metadata": {},
   "outputs": [
    {
     "name": "stdout",
     "output_type": "stream",
     "text": [
      "Soju is a traditional Korean distilled alcoholic beverage. Here is a simple recipe to make soju at home:\n",
      "\n",
      "Ingredients:\n",
      "- 1 kg of rice\n",
      "- 1 kg of barley\n",
      "- 10 liters of water\n",
      "- 1 kg of nuruk (a Korean fermentation starter)\n",
      "- 1 cup of yeast\n",
      "- 1 cup of sugar\n",
      "\n",
      "Instructions:\n",
      "1. Rinse the rice and barley thoroughly to remove any impurities.\n",
      "2. In a large pot, add the rinsed rice, barley, and water. Bring it to a boil and let it simmer for about 2 hours until the grains are cooked and softened.\n",
      "3. Once cooked, remove the pot from heat and let it cool down to room temperature.\n",
      "4. In a separate container, dissolve the nuruk in a small amount of water until it forms a paste.\n",
      "5. Add the nuruk paste to the cooled rice and barley mixture. Mix well to combine.\n",
      "6. Cover the container with a clean cloth and let it ferment for about 7-10 days in a cool, dark place. Stir the mixture once a day during this fermentation period.\n",
      "7. After the fermentation period, strain the mixture through a cheesecloth or fine mesh strainer to remove any solids.\n",
      "8. In a separate container, dissolve the yeast and sugar in warm water. Let it sit for about 10 minutes until it becomes frothy.\n",
      "9. Add the yeast mixture to the strained liquid and mix well.\n",
      "10. Cover the container again and let it ferment for an additional 2-3 days.\n",
      "11. After the final fermentation, strain the liquid again to remove any remaining solids.\n",
      "12. Transfer the soju into clean bottles or jars and seal them tightly.\n",
      "13. Store the bottles in a cool, dark place for at least a week to allow the flavors to develop.\n",
      "14. Once aged, the homemade soju is ready to be enjoyed. Serve it chilled and in moderation.\n",
      "\n",
      "Please note that making soju at home requires proper equipment and knowledge of the fermentation process. It is also important to follow local laws and regulations regarding the production of alcoholic beverages. Here is a basic recipe for making kimchi:\n",
      "\n",
      "Ingredients:\n",
      "- 1 medium Napa cabbage\n",
      "- 1/4 cup sea salt\n",
      "- 4 cups water\n",
      "- 1 tablespoon grated ginger\n",
      "- 4 cloves garlic, minced\n",
      "- 2 tablespoons Korean red pepper flakes (gochugaru)\n",
      "- 2 teaspoons sugar\n",
      "- 4 green onions, chopped\n",
      "- 1 medium carrot, julienned\n",
      "- 1 radish, julienned\n",
      "\n",
      "Instructions:\n",
      "1. Cut the Napa cabbage into quarters lengthwise, then chop it into bite-sized pieces. Rinse the cabbage under cold water and drain.\n",
      "2. Dissolve the sea salt in water to create a brine. Place the cabbage in a large bowl and pour the brine over it. Make sure the cabbage is fully submerged. Let it sit for about 2 hours, flipping it occasionally.\n",
      "3. Rinse the cabbage under cold water to remove excess salt. Squeeze out any excess water and set it aside.\n",
      "4. In a separate bowl, mix together the grated ginger, minced garlic, Korean red pepper flakes, and sugar to create a paste.\n",
      "5. Add the green onions, carrot, and radish to the paste and mix well.\n",
      "6. Gently combine the cabbage with the paste mixture, ensuring all the cabbage is coated.\n",
      "7. Pack the kimchi tightly into a clean glass jar, pressing it down to remove any air bubbles. Leave about an inch of space at the top.\n",
      "8. Seal the jar and let it ferment at room temperature for 1-2 days. After that, transfer it to the refrigerator to continue fermenting for another 3-7 days, depending on your desired level of fermentation.\n",
      "9. Once the kimchi has fermented to your liking, it is ready to be enjoyed. Keep it refrigerated and consume within a few weeks.\n",
      "\n",
      "Note: This is a basic recipe, and you can customize it by adding other ingredients like fish sauce, shrimp paste, or vegetables of your choice. The fermentation time can also be adjusted based on personal preference. \n",
      "\n",
      "Tokens Used: 885\n",
      "\tPrompt Tokens: 30\n",
      "\tCompletion Tokens: 855\n",
      "Successful Requests: 2\n",
      "Total Cost (USD): $0.0035099999999999997\n"
     ]
    }
   ],
   "source": [
    "from langchain.chat_models import ChatOpenAI\n",
    "from langchain.callbacks import get_openai_callback\n",
    "from langchain.llms.openai import OpenAI\n",
    "\n",
    "chat = ChatOpenAI(\n",
    "    temperature=0.1,\n",
    "    max_tokens=450,\n",
    "    model=\"gpt-3.5-turbo-16k\"\n",
    ")\n",
    "\n",
    "with get_openai_callback() as usage:\n",
    "    a = chat.predict(\"What is the recipe for soju?\")\n",
    "    b = chat.predict(\"What is the recipe for kimchi?\")\n",
    "    print(a,b,\"\\n\")\n",
    "    print(usage)\n",
    "    "
   ]
  }
 ],
 "metadata": {
  "kernelspec": {
   "display_name": "env",
   "language": "python",
   "name": "python3"
  },
  "language_info": {
   "codemirror_mode": {
    "name": "ipython",
    "version": 3
   },
   "file_extension": ".py",
   "mimetype": "text/x-python",
   "name": "python",
   "nbconvert_exporter": "python",
   "pygments_lexer": "ipython3",
   "version": "3.9.6"
  }
 },
 "nbformat": 4,
 "nbformat_minor": 2
}
